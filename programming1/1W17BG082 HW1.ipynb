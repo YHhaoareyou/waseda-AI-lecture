{
 "cells": [
  {
   "cell_type": "code",
   "execution_count": 1,
   "metadata": {},
   "outputs": [],
   "source": [
    "class KNearestNeighborsClassifier:\n",
    "    from collections import Counter\n",
    "    import numpy as np\n",
    "    \n",
    "    # K: the number of training data points joining the voting\n",
    "    def __init__(self, K):\n",
    "        self.train_inputs = None\n",
    "        self.train_outputs = None\n",
    "        self.K = K\n",
    "\n",
    "    # fit: train this model on training inputs X and outputs Y\n",
    "    # X: training inputs -- np.ndarray\n",
    "    #      (shape: [# of data points, # of features])\n",
    "    # Y: training outputs -- np.ndarray\n",
    "    #      (shape: [# of data points])\n",
    "    def fit(self, X, Y):\n",
    "        self.train_inputs = X\n",
    "        self.train_outputs = Y\n",
    "        pass\n",
    "\n",
    "    # predict: classify given data points\n",
    "    # X: inputs to the classifier -- np.ndarray\n",
    "    #      (shape: [# of data points, # of features])\n",
    "    def predict(self, X):\n",
    "        output = []\n",
    "        for i in range(X.shape[0]):\n",
    "            # Calculate the distances between train inputs and test inputs\n",
    "            distances = np.sqrt( ( (self.train_inputs - X[i]) ** 2. ).sum(axis=1) )\n",
    "            distances = np.array(distances)\n",
    "            \n",
    "            # Sort by distance (asc) and return indexes\n",
    "            nearest_indexes = distances.argsort(axis=0)\n",
    "            \n",
    "            # Obtain K nearest neighbors\n",
    "            neighbors = []\n",
    "            for k in range(self.K):\n",
    "                neighbors.append(self.train_outputs[nearest_indexes[k]])\n",
    "                        \n",
    "            # Obtain the most frequent pattern\n",
    "            cnt = Counter()\n",
    "            cnt.update(neighbors)\n",
    "            \n",
    "            # cnt.most_common() looks like [(2,4), (0,1)]\n",
    "            # In the above example, we choose '2', which is the most frequent class\n",
    "            predicted_class = cnt.most_common()[0][0]\n",
    "            output.append(predicted_class)\n",
    "        \n",
    "        return output\n",
    "    \n",
    "        pass"
   ]
  },
  {
   "cell_type": "code",
   "execution_count": 2,
   "metadata": {},
   "outputs": [],
   "source": [
    "# check this is a main file\n",
    "if __name__ == '__main__':\n",
    "    from collections import Counter\n",
    "    import numpy as np\n",
    "    from sklearn.datasets import load_iris\n",
    "    from sklearn.model_selection import train_test_split\n",
    "\n",
    "    iris_dataset = load_iris()\n",
    "    X_train, X_test, Y_train, Y_test = train_test_split(iris_dataset.data,\n",
    "                                                        iris_dataset.target,\n",
    "                                                        random_state=0)\n",
    "    knn = KNearestNeighborsClassifier(3)"
   ]
  },
  {
   "cell_type": "code",
   "execution_count": 3,
   "metadata": {},
   "outputs": [],
   "source": [
    "knn.fit(X_train, Y_train)"
   ]
  },
  {
   "cell_type": "code",
   "execution_count": 4,
   "metadata": {},
   "outputs": [
    {
     "name": "stdout",
     "output_type": "stream",
     "text": [
      "[2, 1, 0, 2, 0, 2, 0, 1, 1, 1, 2, 1, 1, 1, 1, 0, 1, 1, 0, 0, 2, 1, 0, 0, 2, 0, 0, 1, 1, 0, 2, 1, 0, 2, 2, 1, 0, 2]\n"
     ]
    }
   ],
   "source": [
    "X_test_predict = knn.predict(X_test)\n",
    "print(X_test_predict)"
   ]
  },
  {
   "cell_type": "code",
   "execution_count": 5,
   "metadata": {},
   "outputs": [
    {
     "name": "stdout",
     "output_type": "stream",
     "text": [
      "acc: 0.9736842105263158\n"
     ]
    }
   ],
   "source": [
    "accuracy = np.sum(Y_test == X_test_predict) / Y_test.shape[0]\n",
    "print('acc:', accuracy)\n",
    "assert(accuracy > 0.7)"
   ]
  },
  {
   "cell_type": "code",
   "execution_count": null,
   "metadata": {},
   "outputs": [],
   "source": []
  }
 ],
 "metadata": {
  "kernelspec": {
   "display_name": "Python 3",
   "language": "python",
   "name": "python3"
  },
  "language_info": {
   "codemirror_mode": {
    "name": "ipython",
    "version": 3
   },
   "file_extension": ".py",
   "mimetype": "text/x-python",
   "name": "python",
   "nbconvert_exporter": "python",
   "pygments_lexer": "ipython3",
   "version": "3.7.3"
  }
 },
 "nbformat": 4,
 "nbformat_minor": 2
}
