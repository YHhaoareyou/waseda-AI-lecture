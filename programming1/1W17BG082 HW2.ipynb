{
 "cells": [
  {
   "cell_type": "code",
   "execution_count": 1,
   "metadata": {},
   "outputs": [
    {
     "name": "stdout",
     "output_type": "stream",
     "text": [
      "a: 0.5488135039273248 b: 0.7151893663724195\n",
      "Shape of X: (10000, 1)\n",
      "Shape of e: (10000, 1)\n",
      "Shape of Y: (10000, 1)\n",
      "Y[0] = 4.334454686607833\n",
      "X[0]*a + b + E[0] = 4.334454686607833\n"
     ]
    }
   ],
   "source": [
    "%matplotlib inline\n",
    "import numpy as np\n",
    "import sklearn\n",
    "import matplotlib.pyplot as plt\n",
    "\n",
    "np.random.seed(0)\n",
    "\n",
    "a = np.random.rand()\n",
    "b = np.random.rand()\n",
    "\n",
    "n = 10000                     # the number of training data points\n",
    "X = np.random.rand(n,1) * 10  # make n input numbers from 0 to 10\n",
    "E = np.random.rand(n,1) * 0.8 # make n noise numbers from 0 to 0.8\n",
    "\n",
    "Y = X * a + b + E               # make n output numbers a*x + b + e \n",
    "                                #   (where x = X[i] and e = E[i] for each i between 0 to 99)\n",
    "\n",
    "print('a:', a, 'b:', b)\n",
    "print('Shape of X:', X.shape)\n",
    "print('Shape of e:', E.shape)\n",
    "print('Shape of Y:', Y.shape)\n",
    "print('Y[0] =', Y[0][0])\n",
    "print('X[0]*a + b + E[0] =', (X[0]*a + b + E[0])[0])"
   ]
  },
  {
   "cell_type": "code",
   "execution_count": 2,
   "metadata": {},
   "outputs": [],
   "source": [
    "### optimization by gradient descent\n",
    "def grad_descent(a, b, lr, n, X, Y):\n",
    "    for _ in range(0, n):  # repeat N updates\n",
    "        Y_pred = a * X + b\n",
    "        Y_diff = Y_pred - Y\n",
    "        a = a - lr * (X * Y_diff).mean()\n",
    "        b = b - lr * Y_diff.mean()\n",
    "    return a, b\n",
    "\n",
    "points = []\n",
    "learning_rates = []\n",
    "goodnesses = []\n",
    "\n",
    "for lr in np.linspace(0., 0.0005, 100):\n",
    "    a_, b_ = grad_descent(np.random.rand(), np.random.rand(), lr, n, X, Y)\n",
    "    points.append([a_, b_])\n",
    "    learning_rates.append(lr)\n",
    "    goodnesses.append( np.sum((a_ * X + b_ - Y)**2) / n )"
   ]
  },
  {
   "cell_type": "code",
   "execution_count": 3,
   "metadata": {},
   "outputs": [
    {
     "data": {
      "image/png": "[encoded data removed]",
      "text/plain": [
       "<Figure size 432x288 with 1 Axes>"
      ]
     },
     "metadata": {
      "needs_background": "light"
     },
     "output_type": "display_data"
    }
   ],
   "source": [
    "plt.plot(learning_rates, goodnesses)\n",
    "plt.show()"
   ]
  },
  {
   "cell_type": "code",
   "execution_count": null,
   "metadata": {},
   "outputs": [],
   "source": []
  }
 ],
 "metadata": {
  "kernelspec": {
   "display_name": "Python 3",
   "language": "python",
   "name": "python3"
  },
  "language_info": {
   "codemirror_mode": {
    "name": "ipython",
    "version": 3
   },
   "file_extension": ".py",
   "mimetype": "text/x-python",
   "name": "python",
   "nbconvert_exporter": "python",
   "pygments_lexer": "ipython3",
   "version": "3.7.3"
  }
 },
 "nbformat": 4,
 "nbformat_minor": 2
}
